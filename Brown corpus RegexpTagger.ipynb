{
  "cells": [
    {
      "cell_type": "code",
      "execution_count": 2,
      "metadata": {
        "colab": {
          "base_uri": "https://localhost:8080/"
        },
        "id": "aY54E61ptXGK",
        "outputId": "97662221-1111-45c2-cba1-96494482951e"
      },
      "outputs": [
        {
          "output_type": "stream",
          "name": "stderr",
          "text": [
            "[nltk_data] Downloading package brown to /root/nltk_data...\n",
            "[nltk_data]   Unzipping corpora/brown.zip.\n"
          ]
        },
        {
          "output_type": "execute_result",
          "data": {
            "text/plain": [
              "True"
            ]
          },
          "metadata": {},
          "execution_count": 2
        }
      ],
      "source": [
        "import nltk\n",
        "from nltk.corpus import brown\n",
        "nltk.download('brown')"
      ]
    },
    {
      "cell_type": "code",
      "execution_count": null,
      "metadata": {
        "colab": {
          "base_uri": "https://localhost:8080/"
        },
        "id": "Edu1t_lyQetz",
        "outputId": "42222940-330d-4589-a1b1-651c68c14f85"
      },
      "outputs": [
        {
          "output_type": "execute_result",
          "data": {
            "text/plain": [
              "100554"
            ]
          },
          "metadata": {},
          "execution_count": 3
        }
      ],
      "source": [
        "len(brown.words(categories='news'))"
      ]
    },
    {
      "cell_type": "code",
      "execution_count": null,
      "metadata": {
        "colab": {
          "base_uri": "https://localhost:8080/"
        },
        "id": "GFAvahI0QeOE",
        "outputId": "16194f81-137d-4fc0-cc8d-25d31c6d0f25"
      },
      "outputs": [
        {
          "output_type": "execute_result",
          "data": {
            "text/plain": [
              "61604"
            ]
          },
          "metadata": {},
          "execution_count": 4
        }
      ],
      "source": [
        "len(brown.words(categories='editorial'))"
      ]
    },
    {
      "cell_type": "code",
      "execution_count": null,
      "metadata": {
        "colab": {
          "base_uri": "https://localhost:8080/"
        },
        "id": "nyktIJ-mQxRS",
        "outputId": "c31ee8ab-d752-4471-d00a-bb548b6e0661"
      },
      "outputs": [
        {
          "output_type": "execute_result",
          "data": {
            "text/plain": [
              "40704"
            ]
          },
          "metadata": {},
          "execution_count": 5
        }
      ],
      "source": [
        "len(brown.words(categories='reviews'))"
      ]
    },
    {
      "cell_type": "code",
      "execution_count": null,
      "metadata": {
        "id": "THNKpP0MhOBB"
      },
      "outputs": [],
      "source": []
    },
    {
      "cell_type": "code",
      "execution_count": 3,
      "metadata": {
        "id": "HoVjbHOStW2y"
      },
      "outputs": [],
      "source": [
        "train = brown.tagged_sents(categories='news')\n",
        "validation = brown.tagged_sents(categories='editorial')\n",
        "test = brown.tagged_sents(categories='reviews')"
      ]
    },
    {
      "cell_type": "code",
      "execution_count": 4,
      "metadata": {
        "id": "bD56QaN-g0G6"
      },
      "outputs": [],
      "source": [
        "patterns = [('.*ing$', 'VBG'),              # gerunds\n",
        "            ('.*ed$', 'VBD'),               # simple past\n",
        "            ('.*es$', 'VBZ'),               # 3rd singular present\n",
        "            ('.*ould$', 'MD'),              # modals\n",
        "            ('.*\\'s$', 'NN$'),              # possessive nouns\n",
        "            ('.*s$', 'NNS'),                # plural nouns\n",
        "            ('^-?[0-9]+(.[0-9]+)?$', 'CD'), # cardinal numbers\n",
        "            ('.*', 'NN')]                   # nouns (default)                   # nouns (default)"
      ]
    },
    {
      "cell_type": "code",
      "execution_count": 5,
      "metadata": {
        "id": "oMnljcWxwFB4"
      },
      "outputs": [],
      "source": [
        "t0 = nltk.RegexpTagger(patterns)\n",
        "t1 = nltk.UnigramTagger(train, backoff=t0)\n",
        "t2 = nltk.BigramTagger(train, backoff=t1)\n",
        "t3 = nltk.TrigramTagger(train, backoff=t2)"
      ]
    },
    {
      "cell_type": "code",
      "execution_count": 6,
      "metadata": {
        "colab": {
          "base_uri": "https://localhost:8080/"
        },
        "id": "s0iwN9wwwFB5",
        "outputId": "a4696ad2-afda-498e-e0be-3aff249893d1"
      },
      "outputs": [
        {
          "output_type": "execute_result",
          "data": {
            "text/plain": [
              "0.8320066823899371"
            ]
          },
          "metadata": {},
          "execution_count": 6
        }
      ],
      "source": [
        "t3.accuracy(test)"
      ]
    },
    {
      "cell_type": "code",
      "execution_count": 7,
      "metadata": {
        "colab": {
          "base_uri": "https://localhost:8080/"
        },
        "id": "2_UZAG1hFGuM",
        "outputId": "190fe209-6ef7-4e7c-acb9-34cae7c5bc5a"
      },
      "outputs": [
        {
          "output_type": "stream",
          "name": "stderr",
          "text": [
            "<ipython-input-7-1a74b803c407>:23: DeprecationWarning: \n",
            "  Function evaluate() has been deprecated.  Use accuracy(gold)\n",
            "  instead.\n",
            "  validation_accuracy = t3.evaluate(validation)\n"
          ]
        },
        {
          "output_type": "stream",
          "name": "stdout",
          "text": [
            "0.8660476592429063\n"
          ]
        },
        {
          "output_type": "stream",
          "name": "stderr",
          "text": [
            "<ipython-input-7-1a74b803c407>:25: DeprecationWarning: \n",
            "  Function evaluate() has been deprecated.  Use accuracy(gold)\n",
            "  instead.\n",
            "  t3.evaluate(test)\n"
          ]
        },
        {
          "output_type": "execute_result",
          "data": {
            "text/plain": [
              "0.835249606918239"
            ]
          },
          "metadata": {},
          "execution_count": 7
        }
      ],
      "source": [
        "# 1\n",
        "patterns = [\n",
        "    ('.*ing$', 'VBG'),              # gerunds\n",
        "    ('.*ed$', 'VBD'),               # simple past\n",
        "    ('.*es$', 'VBZ'),               # 3rd singular present\n",
        "    ('.*ould$', 'MD'),              # modals\n",
        "    ('.*\\'s$', 'NN$'),              # possessive nouns\n",
        "    ('.*s$', 'NNS'),                # plural nouns\n",
        "    ('^-?[0-9]+(.[0-9]+)?$', 'CD'), # cardinal numbers\n",
        "    ('.*ly$', 'RB'),                # adverbs\n",
        "    ('.*ious$', 'JJ'),              # adjectives\n",
        "    ('.*ive$', 'JJ'),               # adjectives\n",
        "    ('.*est$', 'JJS'),              # superlative adjectives\n",
        "    ('.*er$', 'JJR'),               # comparative adjectives\n",
        "    ('.*', 'NN')                    # nouns (default)\n",
        "]\n",
        "\n",
        "t0 = nltk.RegexpTagger(patterns)\n",
        "t1 = nltk.UnigramTagger(train, backoff=t0)\n",
        "t2 = nltk.BigramTagger(train, backoff=t1)\n",
        "t3 = nltk.TrigramTagger(train, backoff=t2)\n",
        "\n",
        "validation_accuracy = t3.evaluate(validation)\n",
        "print(validation_accuracy)\n",
        "t3.evaluate(test)\n"
      ]
    },
    {
      "cell_type": "code",
      "execution_count": 8,
      "metadata": {
        "colab": {
          "base_uri": "https://localhost:8080/"
        },
        "id": "DT8n7AluKQ56",
        "outputId": "e912e8bd-0968-4e46-c4fe-c6ee8f811de3"
      },
      "outputs": [
        {
          "output_type": "stream",
          "name": "stderr",
          "text": [
            "<ipython-input-8-e49cda4798fd>:38: DeprecationWarning: \n",
            "  Function evaluate() has been deprecated.  Use accuracy(gold)\n",
            "  instead.\n",
            "  validation_accuracy = t3.evaluate(validation)\n"
          ]
        },
        {
          "output_type": "stream",
          "name": "stdout",
          "text": [
            "0.8666969677293682\n"
          ]
        },
        {
          "output_type": "stream",
          "name": "stderr",
          "text": [
            "<ipython-input-8-e49cda4798fd>:40: DeprecationWarning: \n",
            "  Function evaluate() has been deprecated.  Use accuracy(gold)\n",
            "  instead.\n",
            "  t3.evaluate(test)\n"
          ]
        },
        {
          "output_type": "execute_result",
          "data": {
            "text/plain": [
              "0.8379029088050315"
            ]
          },
          "metadata": {},
          "execution_count": 8
        }
      ],
      "source": [
        "#2\n",
        "import nltk\n",
        "from nltk.corpus import brown\n",
        "\n",
        "train = brown.tagged_sents(categories='news')\n",
        "validation = brown.tagged_sents(categories='editorial')\n",
        "test = brown.tagged_sents(categories='reviews')\n",
        "\n",
        "patterns = [\n",
        "    ('.*ing$', 'VBG'),              # gerunds\n",
        "    ('.*ed$', 'VBD'),               # simple past\n",
        "    ('.*es$', 'VBZ'),               # 3rd singular present\n",
        "    ('.*ould$', 'MD'),              # modals\n",
        "    ('.*\\'s$', 'NN$'),              # possessive nouns\n",
        "    ('.*s$', 'NNS'),                # plural nouns\n",
        "    ('^-?[0-9]+(.[0-9]+)?$', 'CD'), # cardinal numbers\n",
        "    ('.*ly$', 'RB'),                # adverbs\n",
        "    ('.*ious$', 'JJ'),              # adjectives\n",
        "    ('.*ive$', 'JJ'),               # adjectives\n",
        "    ('.*est$', 'JJS'),              # superlative adjectives\n",
        "    ('.*er$', 'JJR'),               # comparative adjectives\n",
        "    ('.*ment$', 'NN'),              # nouns ending with -ment\n",
        "    ('.*tion$', 'NN'),              # nouns ending with -tion\n",
        "    ('.*ity$', 'NN'),               # nouns ending with -ity\n",
        "    ('.*able$', 'JJ'),              # adjectives ending with -able\n",
        "    ('.*al$', 'JJ'),                # adjectives ending with -al\n",
        "    ('.*y$', 'JJ'),                 # adjectives ending with -y\n",
        "    ('.*less$', 'JJ'),              # adjectives ending with -less\n",
        "    ('.*en$', 'VBN'),               # past participles ending with -en\n",
        "    ('.*to$', 'TO'),                # infinitival \"to\"\n",
        "    ('.*', 'NN')                    # nouns (default)\n",
        "]\n",
        "t0 = nltk.RegexpTagger(patterns)\n",
        "t1 = nltk.UnigramTagger(train, backoff=t0)\n",
        "t2 = nltk.BigramTagger(train, backoff=t1)\n",
        "t3 = nltk.TrigramTagger(train, backoff=t2)\n",
        "\n",
        "validation_accuracy = t3.evaluate(validation)\n",
        "print(validation_accuracy)\n",
        "t3.evaluate(test)\n",
        "\n"
      ]
    },
    {
      "cell_type": "code",
      "execution_count": 9,
      "metadata": {
        "colab": {
          "base_uri": "https://localhost:8080/"
        },
        "id": "dLrDZj7LWQyD",
        "outputId": "82c8cd47-6914-480c-9a82-a93c0835c0c2"
      },
      "outputs": [
        {
          "output_type": "stream",
          "name": "stderr",
          "text": [
            "<ipython-input-9-e1a766f40f23>:24: DeprecationWarning: \n",
            "  Function evaluate() has been deprecated.  Use accuracy(gold)\n",
            "  instead.\n",
            "  validation_accuracy = t3.evaluate(validation)\n"
          ]
        },
        {
          "output_type": "stream",
          "name": "stdout",
          "text": [
            "0.8700733718589702\n"
          ]
        },
        {
          "output_type": "stream",
          "name": "stderr",
          "text": [
            "<ipython-input-9-e1a766f40f23>:27: DeprecationWarning: \n",
            "  Function evaluate() has been deprecated.  Use accuracy(gold)\n",
            "  instead.\n",
            "  t3.evaluate(test)\n"
          ]
        },
        {
          "output_type": "execute_result",
          "data": {
            "text/plain": [
              "0.8413423742138365"
            ]
          },
          "metadata": {},
          "execution_count": 9
        }
      ],
      "source": [
        "#3\n",
        "import nltk\n",
        "from nltk.corpus import brown\n",
        "\n",
        "train = brown.tagged_sents(categories='news')\n",
        "validation = brown.tagged_sents(categories='editorial')\n",
        "test = brown.tagged_sents(categories='reviews')\n",
        "\n",
        "patterns = [(r'^-?[0-9]+(.[0-9]+)?$', 'CD'),   # cardinal numbers\n",
        "         (r'(The|the|A|a|An|an)$', 'AT'),   # articles\n",
        "         (r'.*able$', 'JJ'),                # adjectives\n",
        "         (r'.*ness$', 'NN'),                # nouns formed from adjectives\n",
        "         (r'.*ly$', 'RB'),                  # adverbs\n",
        "         (r'.*s$', 'NNS'),                  # plural nouns\n",
        "         (r'.*ing$', 'VBG'),                # gerunds\n",
        "         (r'.*ed$', 'VBD'),                 # past tense verbs\n",
        "         (r'.*', 'NN')                      # nouns (default)\n",
        "        ]\n",
        "t0 = nltk.RegexpTagger(patterns)\n",
        "t1 = nltk.UnigramTagger(train, backoff=t0)\n",
        "t2 = nltk.BigramTagger(train, backoff=t1)\n",
        "t3 = nltk.TrigramTagger(train, backoff=t2)\n",
        "\n",
        "validation_accuracy = t3.evaluate(validation)\n",
        "print(validation_accuracy)\n",
        "\n",
        "t3.evaluate(test)"
      ]
    },
    {
      "cell_type": "code",
      "execution_count": 11,
      "metadata": {
        "id": "RJI4qtRYRGML",
        "colab": {
          "base_uri": "https://localhost:8080/"
        },
        "outputId": "15819812-9cbd-429e-8b1c-ca205e42c8ff"
      },
      "outputs": [
        {
          "output_type": "stream",
          "name": "stderr",
          "text": [
            "<ipython-input-11-d29e63e3ccf4>:69: DeprecationWarning: \n",
            "  Function evaluate() has been deprecated.  Use accuracy(gold)\n",
            "  instead.\n",
            "  validation_accuracy = t3.evaluate(validation)\n"
          ]
        },
        {
          "output_type": "stream",
          "name": "stdout",
          "text": [
            "0.8787416401532369\n"
          ]
        },
        {
          "output_type": "stream",
          "name": "stderr",
          "text": [
            "<ipython-input-11-d29e63e3ccf4>:71: DeprecationWarning: \n",
            "  Function evaluate() has been deprecated.  Use accuracy(gold)\n",
            "  instead.\n",
            "  t3.evaluate(test)\n"
          ]
        },
        {
          "output_type": "execute_result",
          "data": {
            "text/plain": [
              "0.8682930424528302"
            ]
          },
          "metadata": {},
          "execution_count": 11
        }
      ],
      "source": [
        "#5\n",
        "import nltk\n",
        "from nltk.corpus import brown\n",
        "\n",
        "train = brown.tagged_sents(categories='news')\n",
        "validation = brown.tagged_sents(categories='editorial')\n",
        "test = brown.tagged_sents(categories='reviews')\n",
        "\n",
        "patterns = [\n",
        "    ('^-?[0-9]+(.[0-9]+)?$', 'CD'),  # cardinal numbers\n",
        "    ('^(I|you|he|she|it|we|they|me|him|her|us|them)$', 'PRP'),  # personal pronouns\n",
        "    ('^(my|your|his|her|its|our|their|mine|yours|hers|ours|theirs)$', 'PRP$'),  # possessive pronouns\n",
        "    ('^(The|the|A|a|An|an)$', 'AT'),  # articles\n",
        "    ('^(Of|of|For|for|In|in|On|on|At|at|With|with|From|from|)$','IN'),\n",
        "    ('^to$', 'TO'),  # matches the word 'to' with the tag 'TO',\n",
        "    ('^(as|As)$','QL'),\n",
        "    ('^(-|\\\\+)?[0-9]+$', 'CD'),  # integers\n",
        "    ('^(-|\\\\+)?[0-9]*\\\\.[0-9]+$', 'CD'),  # decimals\n",
        "    ('^(-|\\\\+)?[0-9]+\\\\.[0-9]*$', 'CD'),  # decimals\n",
        "    ('^[A-Z][a-z]*$', 'NP'),  # proper nouns\n",
        "    ('^[A-Z][a-z]*s$', 'NPS'),  # plural proper nouns\n",
        "    ('^.*er$', 'JJR'),  # comparative adjectives\n",
        "    ('^.*est$', 'JJS'),  # superlative adjectives\n",
        "    ('^.*er$', 'RBR'),  # comparative adverbs\n",
        "    ('^.*est$', 'RBS'),  # superlative adverbs\n",
        "    ('^.*ize$', 'VB'),  # verbs ending with -ize\n",
        "    ('^.*ise$', 'VB'),  # verbs ending with -ise\n",
        "    ('^.*ate$', 'VB'),  # verbs ending with -ate\n",
        "    ('^.*ify$', 'VB'),  # verbs ending with -ify\n",
        "    ('^.*ise$', 'VB'),  # verbs ending with -ise\n",
        "    ('^.*ful$', 'JJ'),  # adjectives ending with -ful\n",
        "    ('^.*ive$', 'JJ'),  # adjectives ending with -ive\n",
        "    ('^.*ic$', 'JJ'),   # adjectives ending with -ic\n",
        "    ('^.*ous$', 'JJ'),  # adjectives ending with -ous\n",
        "    ('^.*ant$', 'JJ'),  # adjectives ending with -ant\n",
        "    ('^.*ent$', 'JJ'),  # adjectives ending with -ent\n",
        "    ('^.*\\'re$', 'VBP'),  # contractions of \"are\"\n",
        "    ('^.*\\'m$', 'VBP'),  # contractions of \"am\"\n",
        "    ('^.*\\'ll$', 'MD'),  # contractions of \"will\"\n",
        "    ('^.*\\'d$', 'MD'),  # contractions of \"would\" or \"had\"\n",
        "    ('^.*n\\'t$', 'RB'),  # contractions of \"not\"\n",
        "    ('^.*\\'ve$', 'VB'),  # contractions of \"have\"\n",
        "    ('^.*\\'s$', 'VBZ'),  # contractions of \"is\"\n",
        "    ('.*able$', 'JJ'),  # adjectives\n",
        "    ('.*ness$', 'NN'),  # nouns formed from adjectives\n",
        "    ('.*ly$', 'RB'),  # adverbs\n",
        "    ('.*s$', 'NNS'), # plural nouns\n",
        "    ('.*ing$', 'VBG'),  # gerunds\n",
        "    ('.*ed$', 'VBD'),  # past tense verbs\n",
        "    ('.*es$', 'VBZ'),  # present tense verbs (3rd person)\n",
        "    ('.*ould$', 'MD'),  # modal verbs\n",
        "    ('.*\\'s$', 'POS'),  # possessive ending\n",
        "    ('.*ment$', 'NN'),  # nouns ending with -ment\n",
        "    ('.*tion$','NN'),  # nouns ending with -tion\n",
        "    ('.*ity$', 'NN'),   # nouns ending with -ity\n",
        "    ('.*al$', 'JJ'),    # adjectives ending with -al\n",
        "    ('.*y$', 'JJ'),     # adjectives ending with -y\n",
        "    ('.*less$', 'JJ'),  # adjectives ending with -less\n",
        "    ('.*en$', 'VBN'),   # past participles ending with -\n",
        "    ('.*to$', 'TO'),    # infinitival \"to\"\n",
        "    ('.*', 'NN')        # nouns (default)\n",
        "]\n",
        "\n",
        "t0 = nltk.RegexpTagger(patterns)\n",
        "t1 = nltk.UnigramTagger(train, backoff=t0)\n",
        "t2 = nltk.BigramTagger(train, backoff=t1)\n",
        "t3 = nltk.TrigramTagger(train, backoff=t2)\n",
        "\n",
        "validation_accuracy = t3.evaluate(validation)\n",
        "print(validation_accuracy)\n",
        "t3.evaluate(test)"
      ]
    },
    {
      "cell_type": "code",
      "source": [],
      "metadata": {
        "id": "S4yIeC0Ikoh8"
      },
      "execution_count": null,
      "outputs": []
    }
  ],
  "metadata": {
    "colab": {
      "provenance": []
    },
    "kernelspec": {
      "display_name": "Python 3",
      "language": "python",
      "name": "python3"
    },
    "language_info": {
      "codemirror_mode": {
        "name": "ipython",
        "version": 3
      },
      "file_extension": ".py",
      "mimetype": "text/x-python",
      "name": "python",
      "nbconvert_exporter": "python",
      "pygments_lexer": "ipython3",
      "version": "3.8.7rc1"
    }
  },
  "nbformat": 4,
  "nbformat_minor": 0
}